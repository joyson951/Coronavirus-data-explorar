{
 "cells": [
  {
   "cell_type": "raw",
   "metadata": {},
   "source": [
    "Coronavirus Data Explorar including EU, Russia, India, China, UK, United States of America."
   ]
  },
  {
   "cell_type": "code",
   "execution_count": 1,
   "metadata": {},
   "outputs": [
    {
     "name": "stdout",
     "output_type": "stream",
     "text": [
      "      iso_code continent     location        date  total_cases  new_cases  \\\n",
      "0          AFG      Asia  Afghanistan  2020-02-24          1.0        1.0   \n",
      "1          AFG      Asia  Afghanistan  2020-02-25          1.0        0.0   \n",
      "2          AFG      Asia  Afghanistan  2020-02-26          1.0        0.0   \n",
      "3          AFG      Asia  Afghanistan  2020-02-27          1.0        0.0   \n",
      "4          AFG      Asia  Afghanistan  2020-02-28          1.0        0.0   \n",
      "...        ...       ...          ...         ...          ...        ...   \n",
      "91703      ZWE    Africa     Zimbabwe  2021-05-23      38682.0        3.0   \n",
      "91704      ZWE    Africa     Zimbabwe  2021-05-24      38696.0       14.0   \n",
      "91705      ZWE    Africa     Zimbabwe  2021-05-25      38706.0       10.0   \n",
      "91706      ZWE    Africa     Zimbabwe  2021-05-26      38819.0      113.0   \n",
      "91707      ZWE    Africa     Zimbabwe  2021-05-27      38854.0       35.0   \n",
      "\n",
      "       new_cases_smoothed  total_deaths  new_deaths  new_deaths_smoothed  ...  \\\n",
      "0                     NaN           NaN         NaN                  NaN  ...   \n",
      "1                     NaN           NaN         NaN                  NaN  ...   \n",
      "2                     NaN           NaN         NaN                  NaN  ...   \n",
      "3                     NaN           NaN         NaN                  NaN  ...   \n",
      "4                     NaN           NaN         NaN                  NaN  ...   \n",
      "...                   ...           ...         ...                  ...  ...   \n",
      "91703              17.429        1586.0         0.0                0.571  ...   \n",
      "91704              17.714        1586.0         0.0                0.571  ...   \n",
      "91705              15.857        1587.0         1.0                0.571  ...   \n",
      "91706              29.571        1589.0         2.0                0.857  ...   \n",
      "91707              31.286        1592.0         3.0                1.000  ...   \n",
      "\n",
      "       gdp_per_capita  extreme_poverty  cardiovasc_death_rate  \\\n",
      "0            1803.987              NaN                597.029   \n",
      "1            1803.987              NaN                597.029   \n",
      "2            1803.987              NaN                597.029   \n",
      "3            1803.987              NaN                597.029   \n",
      "4            1803.987              NaN                597.029   \n",
      "...               ...              ...                    ...   \n",
      "91703        1899.775             21.4                307.846   \n",
      "91704        1899.775             21.4                307.846   \n",
      "91705        1899.775             21.4                307.846   \n",
      "91706        1899.775             21.4                307.846   \n",
      "91707        1899.775             21.4                307.846   \n",
      "\n",
      "       diabetes_prevalence  female_smokers  male_smokers  \\\n",
      "0                     9.59             NaN           NaN   \n",
      "1                     9.59             NaN           NaN   \n",
      "2                     9.59             NaN           NaN   \n",
      "3                     9.59             NaN           NaN   \n",
      "4                     9.59             NaN           NaN   \n",
      "...                    ...             ...           ...   \n",
      "91703                 1.82             1.6          30.7   \n",
      "91704                 1.82             1.6          30.7   \n",
      "91705                 1.82             1.6          30.7   \n",
      "91706                 1.82             1.6          30.7   \n",
      "91707                 1.82             1.6          30.7   \n",
      "\n",
      "       handwashing_facilities  hospital_beds_per_thousand  life_expectancy  \\\n",
      "0                      37.746                         0.5            64.83   \n",
      "1                      37.746                         0.5            64.83   \n",
      "2                      37.746                         0.5            64.83   \n",
      "3                      37.746                         0.5            64.83   \n",
      "4                      37.746                         0.5            64.83   \n",
      "...                       ...                         ...              ...   \n",
      "91703                  36.791                         1.7            61.49   \n",
      "91704                  36.791                         1.7            61.49   \n",
      "91705                  36.791                         1.7            61.49   \n",
      "91706                  36.791                         1.7            61.49   \n",
      "91707                  36.791                         1.7            61.49   \n",
      "\n",
      "       human_development_index  \n",
      "0                        0.511  \n",
      "1                        0.511  \n",
      "2                        0.511  \n",
      "3                        0.511  \n",
      "4                        0.511  \n",
      "...                        ...  \n",
      "91703                    0.571  \n",
      "91704                    0.571  \n",
      "91705                    0.571  \n",
      "91706                    0.571  \n",
      "91707                    0.571  \n",
      "\n",
      "[91708 rows x 59 columns]\n"
     ]
    }
   ],
   "source": [
    "# import pandas module\n",
    "import pandas as pd\n",
    "\t\n",
    "# making dataframe\n",
    "df = pd.read_csv(\"owid-covid-data.csv\")\n",
    "\n",
    "# output the dataframe\n",
    "print(df)\n"
   ]
  },
  {
   "cell_type": "code",
   "execution_count": null,
   "metadata": {},
   "outputs": [],
   "source": []
  }
 ],
 "metadata": {
  "kernelspec": {
   "display_name": "Python 3",
   "language": "python",
   "name": "python3"
  },
  "language_info": {
   "codemirror_mode": {
    "name": "ipython",
    "version": 3
   },
   "file_extension": ".py",
   "mimetype": "text/x-python",
   "name": "python",
   "nbconvert_exporter": "python",
   "pygments_lexer": "ipython3",
   "version": "3.8.5"
  }
 },
 "nbformat": 4,
 "nbformat_minor": 4
}
